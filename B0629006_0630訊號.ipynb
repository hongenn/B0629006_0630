{
 "cells": [
  {
   "cell_type": "code",
   "execution_count": 1,
   "metadata": {},
   "outputs": [
    {
     "name": "stdout",
     "output_type": "stream",
     "text": [
      "[(1+0j), (1+0j), (1+0j), (1+0j), (1+0j), (1+0j), (1+0j), (1+0j)]\n",
      "[(8+0j), (-5.551115123125783e-16+2.220446049250313e-16j), (-4.286263797015736e-16-4.440892098500626e-16j), (-2.220446049250313e-16+8.881784197001252e-16j), -4.898587196589413e-16j, (-2.1094237467877974e-15-1.2212453270876722e-15j), (-2.9329683544708742e-15-6.661338147750939e-16j), (3.552713678800501e-15+1.1102230246251565e-15j)]\n",
      "[0j, (1.1102230246251565e-16-1.1102230246251565e-16j), (9.555947231402665e-17-1.1102230246251565e-16j), (8.881784197001252e-16-1.5543122344752192e-15j), (8+3.4290110376125885e-15j), (-2.6645352591003757e-15+1.1102230246251565e-16j), (2.9329683544708742e-15-6.661338147750939e-16j), (-5.218048215738236e-15-2.6645352591003757e-15j)]\n",
      "[(9+0j), (0.9999999999999997-4.440892098500626e-16j), (1-4.898587196589412e-16j), (1.0000000000000007-6.661338147750939e-16j), (9+2.9391523179536475e-15j), (0.999999999999995-1.3322676295501878e-15j), (1-1.469576158976824e-15j), (0.9999999999999981-1.7763568394002505e-15j)]\n",
      "[(0.5+0j), (0.3017766952966368-0.125j), (-5.35782974626967e-17+5.551115123125783e-17j), (-0.05177669529663678+0.12499999999999997j), 3.0616169978683836e-17j, (-0.05177669529663707-0.12499999999999982j), (-8.906528815257012e-17+1.3877787807814457e-16j), (0.3017766952966372+0.12499999999999961j)]\n",
      "[(0.375+0j), (0.30177669529663687-1.3877787807814457e-17j), (0.12499999999999994+0j), (-0.05177669529663685-1.3877787807814457e-17j), (-0.125+1.2246467991473532e-16j), (-0.05177669529663673+1.8041124150158794e-16j), (0.12499999999999992+0j), (0.30177669529663725-3.885780586188048e-16j)]\n"
     ]
    }
   ],
   "source": [
    "\"\"\"DFT \"\"\"\n",
    "import math\n",
    "\n",
    "def iexp(n):\n",
    "    return complex(math.cos(n), math.sin(n))\n",
    "\n",
    "def is_pow2(n):\n",
    "    return False if n == 0 else (n == 1 or is_pow2(n >> 1))\n",
    "\n",
    "def dft(xs):\n",
    "    \"naive dft\"\n",
    "    n = len(xs)\n",
    "    return [sum((xs[k] * iexp(-2 * math.pi * i * k / n) for k in range(n)))\n",
    "            for i in range(n)]\n",
    "\n",
    "def dftinv(xs):\n",
    "    \"naive dft\"\n",
    "    n = len(xs)\n",
    "    return [sum((xs[k] * iexp(2 * math.pi * i * k / n) for k in range(n))) / n\n",
    "            for i in range(n)]\n",
    "\n",
    "if __name__ == \"__main__\":\n",
    "    wave1 = [1,0,0,0,0,0,0,0]\n",
    "    wave2 = [1,1,1,1,1,1,1,1]\n",
    "    wave3 = [1,-1,1,-1,1,-1,1,-1]\n",
    "    wave4 = [3,0,2,0,2,0,2,0]\n",
    "    dfreq5 = [1,1,0,0,0,0,1,1]\n",
    "    dfreq6 = [1,1,0,0,0,0,0,1]\n",
    "    dfreq1 = dft(wave1)\n",
    "    dfreq2 = dft(wave2)\n",
    "    dfreq3 = dft(wave3)\n",
    "    dfreq4 = dft(wave4)\n",
    "    wave5 = dftinv(dfreq5)\n",
    "    wave6 = dftinv(dfreq6)\n",
    "    print(dfreq1)\n",
    "    print(dfreq2)\n",
    "    print(dfreq3)\n",
    "    print(dfreq4)\n",
    "    print(wave5)\n",
    "    print(wave6)\n",
    "    pass"
   ]
  },
  {
   "cell_type": "code",
   "execution_count": null,
   "metadata": {},
   "outputs": [],
   "source": []
  },
  {
   "cell_type": "code",
   "execution_count": null,
   "metadata": {},
   "outputs": [],
   "source": []
  },
  {
   "cell_type": "code",
   "execution_count": null,
   "metadata": {},
   "outputs": [],
   "source": []
  },
  {
   "cell_type": "code",
   "execution_count": null,
   "metadata": {},
   "outputs": [],
   "source": []
  }
 ],
 "metadata": {
  "kernelspec": {
   "display_name": "Python 3",
   "language": "python",
   "name": "python3"
  },
  "language_info": {
   "codemirror_mode": {
    "name": "ipython",
    "version": 3
   },
   "file_extension": ".py",
   "mimetype": "text/x-python",
   "name": "python",
   "nbconvert_exporter": "python",
   "pygments_lexer": "ipython3",
   "version": "3.7.4"
  }
 },
 "nbformat": 4,
 "nbformat_minor": 4
}
